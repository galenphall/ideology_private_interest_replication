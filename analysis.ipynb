{
 "cells": [
  {
   "cell_type": "code",
   "execution_count": 83,
   "metadata": {},
   "outputs": [
    {
     "name": "stdout",
     "output_type": "stream",
     "text": [
      "=======================================================\n",
      "  Infomap v2.0.1 starts at 2022-01-27 14:34:51\n",
      "  -> Input network: \n",
      "  -> Output path:   data/\n",
      "  -> Configuration: tree\n",
      "                    markov-time = 0.85\n",
      "=======================================================\n",
      "  OpenMP 201811 detected with 4 threads...\n",
      "  -> Ordinary network input, using the Map Equation for first order network flows\n",
      "Calculating global network flow using flow model 'undirected'... \n",
      "  -> Using undirected links.\n",
      "  => Sum node flow: 1, sum link flow: 1\n",
      "Build internal network with 133 nodes and 431 links...\n",
      "Calculating one-level codelength... done!\n",
      " -> One-level codelength: 6.01387793\n",
      "Calculating entropy rate... done!\n",
      "  -> Entropy rate: 1.303178263\n",
      "\n",
      "================================================\n",
      "Trial 1/1 starting at 2022-01-27 14:34:51\n",
      "================================================\n",
      "Two-level compression: 38% 0.74% \n",
      "Partitioned to codelength 0.883371978 + 2.79796367 = 3.681335645 in 28 modules.\n",
      "Super-level compression: 1.06253415% to codelength 3.642220197 in 5 top modules.\n",
      "\n",
      "Recursive sub-structure compression: 32.7896056% -1.22258706e-14% . Found 3 levels with codelength 3.632372883\n",
      "\n",
      "=> Trial 1/1 finished in 0.026097s with codelength 3.63237288\n",
      "Write tree to data/no-name.tree... done!\n",
      "\n",
      "\n",
      "================================================\n",
      "Summary after 1 trial\n",
      "================================================\n",
      "Best end modular solution in 3 levels:\n",
      "Per level number of modules:         [          5,          27,           0] (sum: 32)\n",
      "Per level number of leaf nodes:      [          0,           4,         129] (sum: 133)\n",
      "Per level average child degree:      [          5,         6.2,     4.77778] (average: 5.05172)\n",
      "Per level codelength for modules:    [0.016663703, 0.839235133, 0.000000000] (sum: 0.855898836)\n",
      "Per level codelength for leaf nodes: [0.000000000, 0.001482116, 2.774991931] (sum: 2.776474047)\n",
      "Per level codelength total:          [0.016663703, 0.840717249, 2.774991931] (sum: 3.632372883)\n",
      "\n",
      "===================================================\n",
      "  Infomap ends at 2022-01-27 14:34:51\n",
      "  (Elapsed time: 0.032127s)\n",
      "===================================================\n"
     ]
    }
   ],
   "source": [
    "!python communities.py"
   ]
  },
  {
   "cell_type": "code",
   "execution_count": null,
   "metadata": {},
   "outputs": [],
   "source": []
  }
 ],
 "metadata": {
  "kernelspec": {
   "display_name": "Python 3",
   "language": "python",
   "name": "python3"
  },
  "language_info": {
   "codemirror_mode": {
    "name": "ipython",
    "version": 3
   },
   "file_extension": ".py",
   "mimetype": "text/x-python",
   "name": "python",
   "nbconvert_exporter": "python",
   "pygments_lexer": "ipython3",
   "version": "3.8.3"
  }
 },
 "nbformat": 4,
 "nbformat_minor": 4
}
